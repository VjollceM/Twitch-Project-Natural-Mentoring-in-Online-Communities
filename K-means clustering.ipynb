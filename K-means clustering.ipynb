{
 "cells": [
  {
   "cell_type": "code",
   "execution_count": null,
   "id": "db6a9fcd",
   "metadata": {},
   "outputs": [],
   "source": [
    "#importing libraries\n",
    "\n",
    "import pandas as pd\n",
    "\n",
    "import nltk\n",
    "from nltk.tokenize import sent_tokenize, word_tokenize\n",
    "from nltk.corpus import stopwords\n",
    "\n",
    "#libraries for k-means\n",
    "\n",
    "import numpy as np\n",
    "import pandas as pd\n",
    "import matplotlib.pyplot as plt\n",
    "import matplotlib.cm as cm\n",
    "\n",
    "from sklearn.cluster import MiniBatchKMeans\n",
    "from sklearn.feature_extraction.text import TfidfVectorizer\n",
    "from sklearn.decomposition import PCA\n",
    "from sklearn.manifold import TSNE"
   ]
  },
  {
   "cell_type": "code",
   "execution_count": 1,
   "id": "1bb5d377",
   "metadata": {},
   "outputs": [
    {
     "data": {
      "text/html": [
       "<div>\n",
       "<style scoped>\n",
       "    .dataframe tbody tr th:only-of-type {\n",
       "        vertical-align: middle;\n",
       "    }\n",
       "\n",
       "    .dataframe tbody tr th {\n",
       "        vertical-align: top;\n",
       "    }\n",
       "\n",
       "    .dataframe thead th {\n",
       "        text-align: right;\n",
       "    }\n",
       "</style>\n",
       "<table border=\"1\" class=\"dataframe\">\n",
       "  <thead>\n",
       "    <tr style=\"text-align: right;\">\n",
       "      <th></th>\n",
       "      <th>Unnamed: 0</th>\n",
       "      <th>user_description</th>\n",
       "      <th>text</th>\n",
       "      <th>clean</th>\n",
       "      <th>lower</th>\n",
       "      <th>textokenized</th>\n",
       "      <th>nostopwords</th>\n",
       "      <th>lemmatized</th>\n",
       "      <th>lemma_str</th>\n",
       "      <th>final_text</th>\n",
       "    </tr>\n",
       "  </thead>\n",
       "  <tbody>\n",
       "    <tr>\n",
       "      <th>0</th>\n",
       "      <td>0</td>\n",
       "      <td>moderator</td>\n",
       "      <td>imuhammetyildiz is now live! streaming just ch...</td>\n",
       "      <td>imuhammetyildiz is now live streaming just cha...</td>\n",
       "      <td>imuhammetyildiz is now live streaming just cha...</td>\n",
       "      <td>['imuhammetyildiz', 'is', 'now', 'live', 'stre...</td>\n",
       "      <td>['is', 'now', 'live', 'streaming', 'just', 'ch...</td>\n",
       "      <td>['iş', 'now', 'live', 'stream', 'just', 'chatt...</td>\n",
       "      <td>iş now live stream just chatting tak takmak yt</td>\n",
       "      <td>['iş', 'now', 'live', 'stream', 'just', 'chatt...</td>\n",
       "    </tr>\n",
       "    <tr>\n",
       "      <th>1</th>\n",
       "      <td>1</td>\n",
       "      <td>moderator</td>\n",
       "      <td>mrdestructoid @imuhammetyildiz it seems like y...</td>\n",
       "      <td>mrdestructoid imuhammetyildiz it seems like yo...</td>\n",
       "      <td>mrdestructoid imuhammetyildiz it seems like yo...</td>\n",
       "      <td>['mrdestructoid', 'imuhammetyildiz', 'it', 'se...</td>\n",
       "      <td>['mrdestructoid', 'it', 'seems', 'like', 'your...</td>\n",
       "      <td>['mrdestructoid', 'itmek', 'şems', 'like', 'yo...</td>\n",
       "      <td>mrdestructoid itmek şems like you sound alerts...</td>\n",
       "      <td>['mrdestructoid', 'itmek', 'şems', 'like', 'yo...</td>\n",
       "    </tr>\n",
       "    <tr>\n",
       "      <th>2</th>\n",
       "      <td>2</td>\n",
       "      <td>3-month subscriber</td>\n",
       "      <td>slm mamiş</td>\n",
       "      <td>slm mamiş</td>\n",
       "      <td>slm mamiş</td>\n",
       "      <td>['slm', 'mamiş']</td>\n",
       "      <td>[]</td>\n",
       "      <td>[]</td>\n",
       "      <td>NaN</td>\n",
       "      <td>[]</td>\n",
       "    </tr>\n",
       "    <tr>\n",
       "      <th>3</th>\n",
       "      <td>3</td>\n",
       "      <td>vip</td>\n",
       "      <td>alooooooo</td>\n",
       "      <td>alooooooo</td>\n",
       "      <td>alooooooo</td>\n",
       "      <td>['alooooooo']</td>\n",
       "      <td>['alooooooo']</td>\n",
       "      <td>['alooooooo']</td>\n",
       "      <td>alooooooo</td>\n",
       "      <td>['alooooooo']</td>\n",
       "    </tr>\n",
       "    <tr>\n",
       "      <th>4</th>\n",
       "      <td>4</td>\n",
       "      <td>3-month subscriber</td>\n",
       "      <td>alo</td>\n",
       "      <td>alo</td>\n",
       "      <td>alo</td>\n",
       "      <td>['alo']</td>\n",
       "      <td>[]</td>\n",
       "      <td>[]</td>\n",
       "      <td>NaN</td>\n",
       "      <td>[]</td>\n",
       "    </tr>\n",
       "  </tbody>\n",
       "</table>\n",
       "</div>"
      ],
      "text/plain": [
       "   Unnamed: 0    user_description  \\\n",
       "0           0           moderator   \n",
       "1           1           moderator   \n",
       "2           2  3-month subscriber   \n",
       "3           3                 vip   \n",
       "4           4  3-month subscriber   \n",
       "\n",
       "                                                text  \\\n",
       "0  imuhammetyildiz is now live! streaming just ch...   \n",
       "1  mrdestructoid @imuhammetyildiz it seems like y...   \n",
       "2                                          slm mamiş   \n",
       "3                                          alooooooo   \n",
       "4                                                alo   \n",
       "\n",
       "                                               clean  \\\n",
       "0  imuhammetyildiz is now live streaming just cha...   \n",
       "1  mrdestructoid imuhammetyildiz it seems like yo...   \n",
       "2                                          slm mamiş   \n",
       "3                                          alooooooo   \n",
       "4                                                alo   \n",
       "\n",
       "                                               lower  \\\n",
       "0  imuhammetyildiz is now live streaming just cha...   \n",
       "1  mrdestructoid imuhammetyildiz it seems like yo...   \n",
       "2                                          slm mamiş   \n",
       "3                                          alooooooo   \n",
       "4                                                alo   \n",
       "\n",
       "                                        textokenized  \\\n",
       "0  ['imuhammetyildiz', 'is', 'now', 'live', 'stre...   \n",
       "1  ['mrdestructoid', 'imuhammetyildiz', 'it', 'se...   \n",
       "2                                   ['slm', 'mamiş']   \n",
       "3                                      ['alooooooo']   \n",
       "4                                            ['alo']   \n",
       "\n",
       "                                         nostopwords  \\\n",
       "0  ['is', 'now', 'live', 'streaming', 'just', 'ch...   \n",
       "1  ['mrdestructoid', 'it', 'seems', 'like', 'your...   \n",
       "2                                                 []   \n",
       "3                                      ['alooooooo']   \n",
       "4                                                 []   \n",
       "\n",
       "                                          lemmatized  \\\n",
       "0  ['iş', 'now', 'live', 'stream', 'just', 'chatt...   \n",
       "1  ['mrdestructoid', 'itmek', 'şems', 'like', 'yo...   \n",
       "2                                                 []   \n",
       "3                                      ['alooooooo']   \n",
       "4                                                 []   \n",
       "\n",
       "                                           lemma_str  \\\n",
       "0     iş now live stream just chatting tak takmak yt   \n",
       "1  mrdestructoid itmek şems like you sound alerts...   \n",
       "2                                                NaN   \n",
       "3                                          alooooooo   \n",
       "4                                                NaN   \n",
       "\n",
       "                                          final_text  \n",
       "0  ['iş', 'now', 'live', 'stream', 'just', 'chatt...  \n",
       "1  ['mrdestructoid', 'itmek', 'şems', 'like', 'yo...  \n",
       "2                                                 []  \n",
       "3                                      ['alooooooo']  \n",
       "4                                                 []  "
      ]
     },
     "execution_count": 1,
     "metadata": {},
     "output_type": "execute_result"
    }
   ],
   "source": [
    "#Loading the data\n",
    "\n",
    "data = pd.read_csv(\"preprocessed_data.csv\")\n",
    "data.head()"
   ]
  },
  {
   "cell_type": "code",
   "execution_count": 2,
   "id": "86aaa909",
   "metadata": {},
   "outputs": [
    {
     "name": "stderr",
     "output_type": "stream",
     "text": [
      "[nltk_data] Downloading package stopwords to\n",
      "[nltk_data]     C:\\Users\\user\\AppData\\Roaming\\nltk_data...\n",
      "[nltk_data]   Package stopwords is already up-to-date!\n"
     ]
    }
   ],
   "source": [
    "\n",
    "nltk.download ('stopwords')\n",
    "#Stop words present in the library\n",
    "stops = nltk.corpus.stopwords.words('turkish')\n",
    "newstops = ['sa','as', 'cisillll', 'pquraen', 'al', 'mis', 'bent', 'imuhamopustuk', 'senin', 'sen', 'onu', 'darkholmee', 'x', 'mu', 'ay', 'naber', 'imuhamiys', 'olur', 'selam', 'insta', 'httpswwwinstagramcomimuhammetyildizhltr', 'haydaaaa', 'hellllooo', 'hellooo', 'hellooooo', 'heee', 'şey', 'haydaaaaaaa', 'haydaaaaaaaa', 'am', 'da', 'daha', 'iyi', 'napalion7', 'bi', 'bosver', 'imuhamalo', 'napalion', 'merhaba', 'httpswwwyoutubecomchannelucstjlfccjuguahupwssiww', 'tutodvrm', 'lul', 'on',  'slm', 'aa', 'şş', 'aaa', 'aaaa', 'aaaaaa', 'aaaaaaa', 'mamiş', 'D', 'çok', 'az', 'neyse', 'falcon2kkalp', 'httpsdiscordggrdj7hxmvgy', ' falcon2kkalp', 'the', 'idil', 'bu', 'httpsdiscordggrdj7hxmvgy', 'neyse', 'ya', 'ne', 'nympea', 'at', 'ays', 'burcinvr', 'san', 'sela', 'değil', 'tutodurm', 'ah', 'be', 'kerema5keremkalp','sö', 'falan', 'bc', 'dc', 'he', 'up', 'aq', 'fizy', '10', 'su', 'nim', 'efe', 'hee', 'hb', 'a', 'gsyi', 'ad', 'ha', 'ner', 'berra', 'hg', 'cafercan3125', 'ayn', 'amk', 'do', 'fa', 'alt','var', 'ba', 'ronaldo', 'ara', 'ada', 'mami', 'bura', 'on', 'fa', 'bb', 'ge', 'ab', 'btw', 'mk', 'pek','Kerem','Keremakdemirr', 'keremakdemirr', 'kere', 'ays055', 'burçin', 'imühamiys', 'mi', 'aç', 'httpswwwyoutubecomchanneluçstjlfçcjuguahupwssiww', 'nympeadansdans','kerem', 'httpsyoutubevsr46l41bru', 'httpswwwinstagramcomkeremakdemirr', 'cafer', 'cüneyt','e', 'i', '5', 'lan', 'la', 'se', 'd', '3', '1', 'bir', 'cafer', 'yay', 'imuhammetyildiz', 'muhamed','deniz', 'Deniz', 'nympea', 'imuhaiys', 'alo', 'evet', 'hayir', 'yok', 'oha']\n",
    "stops.extend(newstops)\n"
   ]
  },
  {
   "cell_type": "code",
   "execution_count": 4,
   "id": "472a6748",
   "metadata": {},
   "outputs": [],
   "source": [
    "tfidf = TfidfVectorizer(\n",
    "    min_df = 5,\n",
    "    max_df = 0.95,\n",
    "    max_features = 4000,\n",
    "    stop_words = stops\n",
    ")\n",
    "tfidf.fit(data.nostopwords)\n",
    "text = tfidf.transform(data.final_text)"
   ]
  },
  {
   "cell_type": "code",
   "execution_count": 5,
   "id": "32329303",
   "metadata": {},
   "outputs": [
    {
     "name": "stdout",
     "output_type": "stream",
     "text": [
      "Fit 2 clusters\n",
      "Fit 4 clusters\n",
      "Fit 6 clusters\n",
      "Fit 8 clusters\n",
      "Fit 10 clusters\n",
      "Fit 12 clusters\n",
      "Fit 14 clusters\n",
      "Fit 16 clusters\n",
      "Fit 18 clusters\n",
      "Fit 20 clusters\n"
     ]
    },
    {
     "data": {
      "image/png": "[encoded data removed]",
      "text/plain": [
       "<Figure size 432x288 with 1 Axes>"
      ]
     },
     "metadata": {
      "needs_background": "light"
     },
     "output_type": "display_data"
    }
   ],
   "source": [
    "def find_optimal_clusters(data, max_k):\n",
    "    iters = range(2, max_k+1, 2)\n",
    "    \n",
    "    sse = []\n",
    "    for k in iters:\n",
    "        sse.append(MiniBatchKMeans(n_clusters=k, init_size=1024, batch_size=2048, random_state=20).fit(data).inertia_)\n",
    "        print('Fit {} clusters'.format(k))\n",
    "        \n",
    "    f, ax = plt.subplots(1, 1)\n",
    "    ax.plot(iters, sse, marker='o')\n",
    "    ax.set_xlabel('Cluster Centers')\n",
    "    ax.set_xticks(iters)\n",
    "    ax.set_xticklabels(iters)\n",
    "    ax.set_ylabel('SSE')\n",
    "    ax.set_title('SSE by Cluster Center Plot')\n",
    "    \n",
    "find_optimal_clusters(text, 20)"
   ]
  },
  {
   "cell_type": "code",
   "execution_count": 26,
   "id": "329c52be",
   "metadata": {},
   "outputs": [],
   "source": [
    "clusters = MiniBatchKMeans(n_clusters=6, init_size=1024, batch_size=2048, random_state=20).fit_predict(text)"
   ]
  },
  {
   "cell_type": "code",
   "execution_count": 27,
   "id": "18f82187",
   "metadata": {},
   "outputs": [
    {
     "name": "stderr",
     "output_type": "stream",
     "text": [
      "C:\\Users\\user\\anaconda3\\lib\\site-packages\\sklearn\\manifold\\_t_sne.py:795: FutureWarning: The default initialization in TSNE will change from 'random' to 'pca' in 1.2.\n",
      "  warnings.warn(\n",
      "C:\\Users\\user\\anaconda3\\lib\\site-packages\\sklearn\\manifold\\_t_sne.py:805: FutureWarning: The default learning rate in TSNE will change from 200.0 to 'auto' in 1.2.\n",
      "  warnings.warn(\n"
     ]
    },
    {
     "data": {
      "image/png": "[encoded data removed]",
      "text/plain": [
       "<Figure size 1008x432 with 2 Axes>"
      ]
     },
     "metadata": {
      "needs_background": "light"
     },
     "output_type": "display_data"
    }
   ],
   "source": [
    "def plot_tsne_pca(data, labels):\n",
    "    max_label = max(labels)\n",
    "    max_items = np.random.choice(range(data.shape[0]), size=3000, replace=False)\n",
    "    \n",
    "    pca = PCA(n_components=2).fit_transform(data[max_items,:].toarray())\n",
    "    tsne = TSNE().fit_transform(PCA(n_components=50).fit_transform(data[max_items,:].toarray()))\n",
    "    \n",
    "    \n",
    "    idx = np.random.choice(range(pca.shape[0]), size=300, replace=False)\n",
    "    label_subset = labels[max_items]\n",
    "    label_subset = [cm.hsv(i/max_label) for i in label_subset[idx]]\n",
    "    \n",
    "    f, ax = plt.subplots(1, 2, figsize=(14, 6))\n",
    "    \n",
    "    ax[0].scatter(pca[idx, 0], pca[idx, 1], c=label_subset)\n",
    "    ax[0].set_title('PCA Cluster Plot')\n",
    "    \n",
    "    ax[1].scatter(tsne[idx, 0], tsne[idx, 1], c=label_subset)\n",
    "    ax[1].set_title('TSNE Cluster Plot')\n",
    "    \n",
    "plot_tsne_pca(text, clusters)"
   ]
  },
  {
   "cell_type": "code",
   "execution_count": 28,
   "id": "a85566bd",
   "metadata": {},
   "outputs": [
    {
     "name": "stderr",
     "output_type": "stream",
     "text": [
      "C:\\Users\\user\\anaconda3\\lib\\site-packages\\sklearn\\utils\\deprecation.py:87: FutureWarning: Function get_feature_names is deprecated; get_feature_names is deprecated in 1.0 and will be removed in 1.2. Please use get_feature_names_out instead.\n",
      "  warnings.warn(msg, category=FutureWarning)\n"
     ]
    },
    {
     "name": "stdout",
     "output_type": "stream",
     "text": [
      "\n",
      "Cluster 0\n",
      "gitmek,izlemek,kız,söylemek,abla,etmek,yemek,kanka,yapmak,abi\n",
      "\n",
      "Cluster 1\n",
      "sak,yapmak,etmek,keşke,gün,güzel,aşık,kanka,demek,olmak\n",
      "\n",
      "Cluster 2\n",
      "yan,aynı,gece,para,tabi,noldu,kafa,aynen,chat,baba\n",
      "\n",
      "Cluster 3\n",
      "doğru,ön,sonra,aşk,abla,abi,kanka,kız,yapmak,demek\n",
      "\n",
      "Cluster 4\n",
      "üst,fazla,yiğit,olay,oluyor,hello,bul,almak,şaka,hoş\n",
      "\n",
      "Cluster 5\n",
      "böyle,doğru,allah,kal,işte,herkes,xd,ora,teşekkür,alaka\n"
     ]
    }
   ],
   "source": [
    "def get_top_keywords(data, clusters, labels, n_terms):\n",
    "    df = pd.DataFrame(data.toarray()).groupby(clusters).mean()\n",
    "    \n",
    "    for i,r in df.iterrows():\n",
    "        print('\\nCluster {}'.format(i))\n",
    "        print(','.join([labels[t] for t in np.argsort(r)[-n_terms:]]))\n",
    "            \n",
    "get_top_keywords(text, clusters, tfidf.get_feature_names(), 10)"
   ]
  },
  {
   "cell_type": "code",
   "execution_count": null,
   "id": "d373a487",
   "metadata": {},
   "outputs": [],
   "source": []
  }
 ],
 "metadata": {
  "kernelspec": {
   "display_name": "Python 3 (ipykernel)",
   "language": "python",
   "name": "python3"
  },
  "language_info": {
   "codemirror_mode": {
    "name": "ipython",
    "version": 3
   },
   "file_extension": ".py",
   "mimetype": "text/x-python",
   "name": "python",
   "nbconvert_exporter": "python",
   "pygments_lexer": "ipython3",
   "version": "3.9.7"
  }
 },
 "nbformat": 4,
 "nbformat_minor": 5
}
